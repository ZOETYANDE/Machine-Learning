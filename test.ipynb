{
 "cells": [
  {
   "cell_type": "code",
   "execution_count": 1,
   "metadata": {},
   "outputs": [
    {
     "data": {
      "text/plain": [
       "'1.26.3'"
      ]
     },
     "execution_count": 1,
     "metadata": {},
     "output_type": "execute_result"
    }
   ],
   "source": [
    "import pandas as pd\n",
    "import numpy as np\n",
    "\n",
    "np.__version__"
   ]
  },
  {
   "cell_type": "code",
   "execution_count": 2,
   "metadata": {},
   "outputs": [
    {
     "name": "stdout",
     "output_type": "stream",
     "text": [
      "        0\n",
      "0   Geeks\n",
      "1     For\n",
      "2   Geeks\n",
      "3      is\n",
      "4  portal\n",
      "5     for\n",
      "6   Geeks\n"
     ]
    }
   ],
   "source": [
    "#import pandas as pd\n",
    "\n",
    "#list of strings\n",
    "lst = [\"Geeks\", \"For\", \"Geeks\", \"is\", \"portal\", \"for\", \"Geeks\"]\n",
    "\n",
    "#Calling DataFrame constructor on list\n",
    "df = pd.DataFrame(lst)\n",
    "print(df)\n"
   ]
  },
  {
   "cell_type": "markdown",
   "metadata": {},
   "source": [
    "## Loading libraries"
   ]
  },
  {
   "cell_type": "code",
   "execution_count": 5,
   "metadata": {},
   "outputs": [
    {
     "name": "stdout",
     "output_type": "stream",
     "text": [
      "    Country  Rank\n",
      "0    Russia   121\n",
      "1  Colombia    40\n",
      "2     Chile   100\n",
      "3   Equador   130\n",
      "4   Nigeria    11\n"
     ]
    }
   ],
   "source": [
    "# Create a data Frame - Dictionary is used here where keys \n",
    "# keys get converted to column names and values to row values\n",
    "\n",
    "data = pd.DataFrame({'Country':[\"Russia\", \"Colombia\", \"Chile\", \"Equador\", \"Nigeria\"], \"Rank\": [121, 40, 100, 130, 11]})\n",
    "print(data)"
   ]
  },
  {
   "cell_type": "code",
   "execution_count": 10,
   "metadata": {},
   "outputs": [
    {
     "data": {
      "text/html": [
       "<div>\n",
       "<style scoped>\n",
       "    .dataframe tbody tr th:only-of-type {\n",
       "        vertical-align: middle;\n",
       "    }\n",
       "\n",
       "    .dataframe tbody tr th {\n",
       "        vertical-align: top;\n",
       "    }\n",
       "\n",
       "    .dataframe thead th {\n",
       "        text-align: right;\n",
       "    }\n",
       "</style>\n",
       "<table border=\"1\" class=\"dataframe\">\n",
       "  <thead>\n",
       "    <tr style=\"text-align: right;\">\n",
       "      <th></th>\n",
       "      <th>Rank</th>\n",
       "    </tr>\n",
       "  </thead>\n",
       "  <tbody>\n",
       "    <tr>\n",
       "      <th>count</th>\n",
       "      <td>5.000000</td>\n",
       "    </tr>\n",
       "    <tr>\n",
       "      <th>mean</th>\n",
       "      <td>80.400000</td>\n",
       "    </tr>\n",
       "    <tr>\n",
       "      <th>std</th>\n",
       "      <td>52.300096</td>\n",
       "    </tr>\n",
       "    <tr>\n",
       "      <th>min</th>\n",
       "      <td>11.000000</td>\n",
       "    </tr>\n",
       "    <tr>\n",
       "      <th>25%</th>\n",
       "      <td>40.000000</td>\n",
       "    </tr>\n",
       "    <tr>\n",
       "      <th>50%</th>\n",
       "      <td>100.000000</td>\n",
       "    </tr>\n",
       "    <tr>\n",
       "      <th>75%</th>\n",
       "      <td>121.000000</td>\n",
       "    </tr>\n",
       "    <tr>\n",
       "      <th>max</th>\n",
       "      <td>130.000000</td>\n",
       "    </tr>\n",
       "  </tbody>\n",
       "</table>\n",
       "</div>"
      ],
      "text/plain": [
       "             Rank\n",
       "count    5.000000\n",
       "mean    80.400000\n",
       "std     52.300096\n",
       "min     11.000000\n",
       "25%     40.000000\n",
       "50%    100.000000\n",
       "75%    121.000000\n",
       "max    130.000000"
      ]
     },
     "execution_count": 10,
     "metadata": {},
     "output_type": "execute_result"
    }
   ],
   "source": [
    "# Quick Analysis of any data set\n",
    "data.describe()"
   ]
  },
  {
   "cell_type": "code",
   "execution_count": 11,
   "metadata": {},
   "outputs": [
    {
     "name": "stdout",
     "output_type": "stream",
     "text": [
      "<class 'pandas.core.frame.DataFrame'>\n",
      "RangeIndex: 5 entries, 0 to 4\n",
      "Data columns (total 2 columns):\n",
      " #   Column   Non-Null Count  Dtype \n",
      "---  ------   --------------  ----- \n",
      " 0   Country  5 non-null      object\n",
      " 1   Rank     5 non-null      int64 \n",
      "dtypes: int64(1), object(1)\n",
      "memory usage: 212.0+ bytes\n"
     ]
    }
   ],
   "source": [
    "# We can also show show some information about the data set\n",
    "\n",
    "data.info()"
   ]
  },
  {
   "cell_type": "code",
   "execution_count": 13,
   "metadata": {},
   "outputs": [
    {
     "name": "stdout",
     "output_type": "stream",
     "text": [
      "  group  ounces\n",
      "0     a     4.0\n",
      "1     a     3.0\n",
      "2     a    12.0\n",
      "3     b     6.0\n",
      "4     b     7.5\n",
      "5     b     8.0\n",
      "6     c     3.0\n",
      "7     c     5.0\n",
      "8     c     6.0\n"
     ]
    }
   ],
   "source": [
    "# Let's create another data frame.\n",
    "\n",
    "data = pd.DataFrame({'group':['a', 'a', 'a', 'b','b', 'b', 'c', 'c','c'],'ounces':[4, 3, 12, 6, 7.5, 8, 3, 5, 6]})\n",
    "\n",
    "print(data)"
   ]
  },
  {
   "cell_type": "code",
   "execution_count": 14,
   "metadata": {},
   "outputs": [
    {
     "data": {
      "text/html": [
       "<div>\n",
       "<style scoped>\n",
       "    .dataframe tbody tr th:only-of-type {\n",
       "        vertical-align: middle;\n",
       "    }\n",
       "\n",
       "    .dataframe tbody tr th {\n",
       "        vertical-align: top;\n",
       "    }\n",
       "\n",
       "    .dataframe thead th {\n",
       "        text-align: right;\n",
       "    }\n",
       "</style>\n",
       "<table border=\"1\" class=\"dataframe\">\n",
       "  <thead>\n",
       "    <tr style=\"text-align: right;\">\n",
       "      <th></th>\n",
       "      <th>group</th>\n",
       "      <th>ounces</th>\n",
       "    </tr>\n",
       "  </thead>\n",
       "  <tbody>\n",
       "    <tr>\n",
       "      <th>1</th>\n",
       "      <td>a</td>\n",
       "      <td>3.0</td>\n",
       "    </tr>\n",
       "    <tr>\n",
       "      <th>6</th>\n",
       "      <td>c</td>\n",
       "      <td>3.0</td>\n",
       "    </tr>\n",
       "    <tr>\n",
       "      <th>0</th>\n",
       "      <td>a</td>\n",
       "      <td>4.0</td>\n",
       "    </tr>\n",
       "    <tr>\n",
       "      <th>7</th>\n",
       "      <td>c</td>\n",
       "      <td>5.0</td>\n",
       "    </tr>\n",
       "    <tr>\n",
       "      <th>3</th>\n",
       "      <td>b</td>\n",
       "      <td>6.0</td>\n",
       "    </tr>\n",
       "    <tr>\n",
       "      <th>8</th>\n",
       "      <td>c</td>\n",
       "      <td>6.0</td>\n",
       "    </tr>\n",
       "    <tr>\n",
       "      <th>4</th>\n",
       "      <td>b</td>\n",
       "      <td>7.5</td>\n",
       "    </tr>\n",
       "    <tr>\n",
       "      <th>5</th>\n",
       "      <td>b</td>\n",
       "      <td>8.0</td>\n",
       "    </tr>\n",
       "    <tr>\n",
       "      <th>2</th>\n",
       "      <td>a</td>\n",
       "      <td>12.0</td>\n",
       "    </tr>\n",
       "  </tbody>\n",
       "</table>\n",
       "</div>"
      ],
      "text/plain": [
       "  group  ounces\n",
       "1     a     3.0\n",
       "6     c     3.0\n",
       "0     a     4.0\n",
       "7     c     5.0\n",
       "3     b     6.0\n",
       "8     c     6.0\n",
       "4     b     7.5\n",
       "5     b     8.0\n",
       "2     a    12.0"
      ]
     },
     "execution_count": 14,
     "metadata": {},
     "output_type": "execute_result"
    }
   ],
   "source": [
    "#Sorting the data frame by ounces-inplace = True\n",
    "#will make changes to the data\n",
    "\n",
    "data.sort_values(by=['ounces'], ascending=True, inplace=False)"
   ]
  },
  {
   "cell_type": "code",
   "execution_count": 15,
   "metadata": {},
   "outputs": [
    {
     "data": {
      "text/html": [
       "<div>\n",
       "<style scoped>\n",
       "    .dataframe tbody tr th:only-of-type {\n",
       "        vertical-align: middle;\n",
       "    }\n",
       "\n",
       "    .dataframe tbody tr th {\n",
       "        vertical-align: top;\n",
       "    }\n",
       "\n",
       "    .dataframe thead th {\n",
       "        text-align: right;\n",
       "    }\n",
       "</style>\n",
       "<table border=\"1\" class=\"dataframe\">\n",
       "  <thead>\n",
       "    <tr style=\"text-align: right;\">\n",
       "      <th></th>\n",
       "      <th>group</th>\n",
       "      <th>ounces</th>\n",
       "    </tr>\n",
       "  </thead>\n",
       "  <tbody>\n",
       "    <tr>\n",
       "      <th>2</th>\n",
       "      <td>a</td>\n",
       "      <td>12.0</td>\n",
       "    </tr>\n",
       "    <tr>\n",
       "      <th>0</th>\n",
       "      <td>a</td>\n",
       "      <td>4.0</td>\n",
       "    </tr>\n",
       "    <tr>\n",
       "      <th>1</th>\n",
       "      <td>a</td>\n",
       "      <td>3.0</td>\n",
       "    </tr>\n",
       "    <tr>\n",
       "      <th>5</th>\n",
       "      <td>b</td>\n",
       "      <td>8.0</td>\n",
       "    </tr>\n",
       "    <tr>\n",
       "      <th>4</th>\n",
       "      <td>b</td>\n",
       "      <td>7.5</td>\n",
       "    </tr>\n",
       "    <tr>\n",
       "      <th>3</th>\n",
       "      <td>b</td>\n",
       "      <td>6.0</td>\n",
       "    </tr>\n",
       "    <tr>\n",
       "      <th>8</th>\n",
       "      <td>c</td>\n",
       "      <td>6.0</td>\n",
       "    </tr>\n",
       "    <tr>\n",
       "      <th>7</th>\n",
       "      <td>c</td>\n",
       "      <td>5.0</td>\n",
       "    </tr>\n",
       "    <tr>\n",
       "      <th>6</th>\n",
       "      <td>c</td>\n",
       "      <td>3.0</td>\n",
       "    </tr>\n",
       "  </tbody>\n",
       "</table>\n",
       "</div>"
      ],
      "text/plain": [
       "  group  ounces\n",
       "2     a    12.0\n",
       "0     a     4.0\n",
       "1     a     3.0\n",
       "5     b     8.0\n",
       "4     b     7.5\n",
       "3     b     6.0\n",
       "8     c     6.0\n",
       "7     c     5.0\n",
       "6     c     3.0"
      ]
     },
     "execution_count": 15,
     "metadata": {},
     "output_type": "execute_result"
    }
   ],
   "source": [
    "# We can also sort the data by not just one column but multiple columns\n",
    "data.sort_values(by=['group','ounces'], ascending=[True, False], inplace=False)"
   ]
  },
  {
   "cell_type": "code",
   "execution_count": 25,
   "metadata": {},
   "outputs": [
    {
     "name": "stdout",
     "output_type": "stream",
     "text": [
      "    k1  k2\n",
      "0  one   3\n",
      "1  one   2\n",
      "2  one   1\n",
      "3  two   3\n",
      "4  two   3\n",
      "5  two   4\n",
      "6  two   4\n",
      "Removed duplicates based on a particular column and subset\n",
      "     k1  k2\n",
      "0  one   3\n",
      "3  two   3\n"
     ]
    }
   ],
   "source": [
    "#How to get rid of the duplicate values and inconsistencies\n",
    "#Let's create a new data\n",
    "\n",
    "data = pd.DataFrame({'k1':['one']*3 + ['two']*4, 'k2':[3,2,1,3,3,4,4]})\n",
    "print(data)\n",
    "\n",
    "#Sorting values\n",
    "sortedData = data.sort_values(by=\"k2\")\n",
    "#print(\"\\nThe sorted values are:\\n\", sortedData)\n",
    "\n",
    "#removing duplicate values\n",
    "removedDuplicate = data.drop_duplicates()\n",
    "#print(\"\\nData without duplicated values\\n\", removedDuplicate)\n",
    "\n",
    "#removing duplicates based on a particular coumn\n",
    "removedDuplicate = data.drop_duplicates(subset=\"k1\")\n",
    "print(\"\\nRemoved duplicates based on a \\nparticular column and subset\\n\", removedDuplicate)"
   ]
  },
  {
   "cell_type": "code",
   "execution_count": 26,
   "metadata": {},
   "outputs": [
    {
     "ename": "KeyError",
     "evalue": "'food'",
     "output_type": "error",
     "traceback": [
      "\u001b[1;31m---------------------------------------------------------------------------\u001b[0m",
      "\u001b[1;31mKeyError\u001b[0m                                  Traceback (most recent call last)",
      "File \u001b[1;32mc:\\Users\\zoety\\OneDrive\\Desktop\\Machine Learning\\.venv\\Lib\\site-packages\\pandas\\core\\indexes\\base.py:3802\u001b[0m, in \u001b[0;36mIndex.get_loc\u001b[1;34m(self, key)\u001b[0m\n\u001b[0;32m   3801\u001b[0m \u001b[38;5;28;01mtry\u001b[39;00m:\n\u001b[1;32m-> 3802\u001b[0m     \u001b[38;5;28;01mreturn\u001b[39;00m \u001b[38;5;28;43mself\u001b[39;49m\u001b[38;5;241;43m.\u001b[39;49m\u001b[43m_engine\u001b[49m\u001b[38;5;241;43m.\u001b[39;49m\u001b[43mget_loc\u001b[49m\u001b[43m(\u001b[49m\u001b[43mcasted_key\u001b[49m\u001b[43m)\u001b[49m\n\u001b[0;32m   3803\u001b[0m \u001b[38;5;28;01mexcept\u001b[39;00m \u001b[38;5;167;01mKeyError\u001b[39;00m \u001b[38;5;28;01mas\u001b[39;00m err:\n",
      "File \u001b[1;32mindex.pyx:153\u001b[0m, in \u001b[0;36mpandas._libs.index.IndexEngine.get_loc\u001b[1;34m()\u001b[0m\n",
      "File \u001b[1;32mindex.pyx:182\u001b[0m, in \u001b[0;36mpandas._libs.index.IndexEngine.get_loc\u001b[1;34m()\u001b[0m\n",
      "File \u001b[1;32mpandas\\\\_libs\\\\hashtable_class_helper.pxi:7081\u001b[0m, in \u001b[0;36mpandas._libs.hashtable.PyObjectHashTable.get_item\u001b[1;34m()\u001b[0m\n",
      "File \u001b[1;32mpandas\\\\_libs\\\\hashtable_class_helper.pxi:7089\u001b[0m, in \u001b[0;36mpandas._libs.hashtable.PyObjectHashTable.get_item\u001b[1;34m()\u001b[0m\n",
      "\u001b[1;31mKeyError\u001b[0m: 'food'",
      "\nThe above exception was the direct cause of the following exception:\n",
      "\u001b[1;31mKeyError\u001b[0m                                  Traceback (most recent call last)",
      "Cell \u001b[1;32mIn[26], line 33\u001b[0m\n\u001b[0;32m     29\u001b[0m         \u001b[38;5;28;01mreturn\u001b[39;00m \u001b[38;5;124m'\u001b[39m\u001b[38;5;124msalmon\u001b[39m\u001b[38;5;124m'\u001b[39m\n\u001b[0;32m     32\u001b[0m \u001b[38;5;66;03m# Create a new variable\u001b[39;00m\n\u001b[1;32m---> 33\u001b[0m data[\u001b[38;5;124m'\u001b[39m\u001b[38;5;124manimal\u001b[39m\u001b[38;5;124m'\u001b[39m] \u001b[38;5;241m=\u001b[39m \u001b[43mdata\u001b[49m\u001b[43m[\u001b[49m\u001b[38;5;124;43m'\u001b[39;49m\u001b[38;5;124;43mfood\u001b[39;49m\u001b[38;5;124;43m'\u001b[39;49m\u001b[43m]\u001b[49m\u001b[38;5;241m.\u001b[39mmap(\u001b[38;5;28mstr\u001b[39m\u001b[38;5;241m.\u001b[39mlower)\u001b[38;5;241m.\u001b[39mmap(meat_to_animal)\n\u001b[0;32m     34\u001b[0m \u001b[38;5;28mprint\u001b[39m(data)\n",
      "File \u001b[1;32mc:\\Users\\zoety\\OneDrive\\Desktop\\Machine Learning\\.venv\\Lib\\site-packages\\pandas\\core\\frame.py:4090\u001b[0m, in \u001b[0;36mDataFrame.__getitem__\u001b[1;34m(self, key)\u001b[0m\n\u001b[0;32m   4088\u001b[0m \u001b[38;5;28;01mif\u001b[39;00m \u001b[38;5;28mself\u001b[39m\u001b[38;5;241m.\u001b[39mcolumns\u001b[38;5;241m.\u001b[39mnlevels \u001b[38;5;241m>\u001b[39m \u001b[38;5;241m1\u001b[39m:\n\u001b[0;32m   4089\u001b[0m     \u001b[38;5;28;01mreturn\u001b[39;00m \u001b[38;5;28mself\u001b[39m\u001b[38;5;241m.\u001b[39m_getitem_multilevel(key)\n\u001b[1;32m-> 4090\u001b[0m indexer \u001b[38;5;241m=\u001b[39m \u001b[38;5;28;43mself\u001b[39;49m\u001b[38;5;241;43m.\u001b[39;49m\u001b[43mcolumns\u001b[49m\u001b[38;5;241;43m.\u001b[39;49m\u001b[43mget_loc\u001b[49m\u001b[43m(\u001b[49m\u001b[43mkey\u001b[49m\u001b[43m)\u001b[49m\n\u001b[0;32m   4091\u001b[0m \u001b[38;5;28;01mif\u001b[39;00m is_integer(indexer):\n\u001b[0;32m   4092\u001b[0m     indexer \u001b[38;5;241m=\u001b[39m [indexer]\n",
      "File \u001b[1;32mc:\\Users\\zoety\\OneDrive\\Desktop\\Machine Learning\\.venv\\Lib\\site-packages\\pandas\\core\\indexes\\base.py:3809\u001b[0m, in \u001b[0;36mIndex.get_loc\u001b[1;34m(self, key)\u001b[0m\n\u001b[0;32m   3804\u001b[0m     \u001b[38;5;28;01mif\u001b[39;00m \u001b[38;5;28misinstance\u001b[39m(casted_key, \u001b[38;5;28mslice\u001b[39m) \u001b[38;5;129;01mor\u001b[39;00m (\n\u001b[0;32m   3805\u001b[0m         \u001b[38;5;28misinstance\u001b[39m(casted_key, abc\u001b[38;5;241m.\u001b[39mIterable)\n\u001b[0;32m   3806\u001b[0m         \u001b[38;5;129;01mand\u001b[39;00m \u001b[38;5;28many\u001b[39m(\u001b[38;5;28misinstance\u001b[39m(x, \u001b[38;5;28mslice\u001b[39m) \u001b[38;5;28;01mfor\u001b[39;00m x \u001b[38;5;129;01min\u001b[39;00m casted_key)\n\u001b[0;32m   3807\u001b[0m     ):\n\u001b[0;32m   3808\u001b[0m         \u001b[38;5;28;01mraise\u001b[39;00m InvalidIndexError(key)\n\u001b[1;32m-> 3809\u001b[0m     \u001b[38;5;28;01mraise\u001b[39;00m \u001b[38;5;167;01mKeyError\u001b[39;00m(key) \u001b[38;5;28;01mfrom\u001b[39;00m \u001b[38;5;21;01merr\u001b[39;00m\n\u001b[0;32m   3810\u001b[0m \u001b[38;5;28;01mexcept\u001b[39;00m \u001b[38;5;167;01mTypeError\u001b[39;00m:\n\u001b[0;32m   3811\u001b[0m     \u001b[38;5;66;03m# If we have a listlike key, _check_indexing_error will raise\u001b[39;00m\n\u001b[0;32m   3812\u001b[0m     \u001b[38;5;66;03m#  InvalidIndexError. Otherwise we fall through and re-raise\u001b[39;00m\n\u001b[0;32m   3813\u001b[0m     \u001b[38;5;66;03m#  the TypeError.\u001b[39;00m\n\u001b[0;32m   3814\u001b[0m     \u001b[38;5;28mself\u001b[39m\u001b[38;5;241m.\u001b[39m_check_indexing_error(key)\n",
      "\u001b[1;31mKeyError\u001b[0m: 'food'"
     ]
    }
   ],
   "source": [
    "''' \n",
    "create a new variable which indicates the type of animal\n",
    "which acts as the source of the food. To do that, first \n",
    "we'll create a dictionary to map the food to the animals. \n",
    "Then, we'll use map function to map the dictionary's values\n",
    " to the keys. Let's see how is it done.\n",
    "'''\n",
    "meat_to_animal = {\n",
    "'bacon': 'pig',\n",
    "'pulled pork': 'pig',\n",
    "'pastrami': 'cow',\n",
    "'corned beef': 'cow',\n",
    "'honey ham': 'pig',\n",
    "'nova lox': 'salmon'\n",
    "}\n",
    "\n",
    "def meat_2_animal(series):\n",
    "    if series['food'] == 'bacon':\n",
    "        return 'pig'\n",
    "    elif series['food'] == 'pulled pork':\n",
    "        return 'pig'\n",
    "    elif series['food'] == 'pastrami':\n",
    "        return 'cow'\n",
    "    elif series['food'] == 'corned beef':\n",
    "        return 'cow'\n",
    "    elif series['food'] == 'honey ham':\n",
    "        return 'pig'\n",
    "    else:\n",
    "        return 'salmon'\n",
    "    \n",
    "\n",
    "# Create a new variable\n",
    "data['animal'] = data['food'].map(str.lower).map(meat_to_animal)\n",
    "print(data)"
   ]
  },
  {
   "cell_type": "code",
   "execution_count": 18,
   "metadata": {},
   "outputs": [
    {
     "name": "stdout",
     "output_type": "stream",
     "text": [
      "    Name  Age\n",
      "0    Tom   20\n",
      "1   nick   21\n",
      "2  krish   19\n",
      "3   Jack   24\n"
     ]
    }
   ],
   "source": [
    "#Python code demonstrate creating\n",
    "#DataFrame from dict and array/lists\n",
    "#By default addresses\n",
    "\n",
    "#initialize data of lists.\n",
    "data = {'Name': ['Tom', 'nick', 'krish', 'Jack'], 'Age':[20, 21, 19, 24]}\n",
    "\n",
    "#create DataFrame\n",
    "df = pd.DataFrame(data)\n",
    "\n",
    "#Printing the output\n",
    "print(df)\n"
   ]
  },
  {
   "cell_type": "code",
   "execution_count": 4,
   "metadata": {},
   "outputs": [
    {
     "name": "stdout",
     "output_type": "stream",
     "text": [
      "     Name  Age    Address Qualification\n",
      "0     Jai   27      Delhi           Msc\n",
      "1  Princi   24     Kanpur            MA\n",
      "2  Gaurav   22  Allahabad           MCA\n",
      "3    Anuj   32    Kannauj           Phd\n",
      "     Name Qualification\n",
      "0     Jai           Msc\n",
      "1  Princi            MA\n",
      "2  Gaurav           MCA\n",
      "3    Anuj           Phd\n"
     ]
    }
   ],
   "source": [
    "# Import pandas package\n",
    "\n",
    "# Define a dictionary containing employee data\n",
    "data = {'Name':['Jai', 'Princi', 'Gaurav', 'Anuj'],\n",
    "    'Age':[27, 24, 22, 32],\n",
    "    'Address':['Delhi', 'Kanpur', 'Allahabad', 'Kannauj'],\n",
    "    'Qualification':['Msc', 'MA', 'MCA', 'Phd']}\n",
    "\n",
    "# Convert the dictionary into DataFrame \n",
    "df = pd.DataFrame(data)\n",
    "\n",
    "# Selecting all columns\n",
    "print(df)\n",
    "\n",
    "# select two columns\n",
    "print(df[['Name', 'Qualification']])"
   ]
  },
  {
   "cell_type": "markdown",
   "metadata": {},
   "source": [
    "## Simple Operation using numpy Library 2/8/2024"
   ]
  },
  {
   "cell_type": "code",
   "execution_count": 12,
   "metadata": {},
   "outputs": [
    {
     "data": {
      "text/plain": [
       "[int, int, int, int, int, int, int, int, int, int]"
      ]
     },
     "execution_count": 12,
     "metadata": {},
     "output_type": "execute_result"
    }
   ],
   "source": [
    "\n",
    "#Checking the version of the installed numpy\n",
    "np.__version__\n",
    "\n",
    "\n",
    "#Create a list comprising numbers from 0 to 9\n",
    "L = list(range(10))\n",
    "\n",
    "[type(item) for item in L]"
   ]
  },
  {
   "cell_type": "code",
   "execution_count": 37,
   "metadata": {},
   "outputs": [
    {
     "name": "stdout",
     "output_type": "stream",
     "text": [
      "[0 0 0 0 0 0 0 0 0 0]\n",
      "[[1. 1. 1. 1. 1.]\n",
      " [1. 1. 1. 1. 1.]\n",
      " [1. 1. 1. 1. 1.]]\n",
      "[[1.23 1.23 1.23 1.23 1.23]\n",
      " [1.23 1.23 1.23 1.23 1.23]\n",
      " [1.23 1.23 1.23 1.23 1.23]]\n",
      "[ 0  2  4  6  8 10 12 14 16 18 20 22 24 26 28]\n",
      "[0.   0.25 0.5  0.75 1.  ]\n",
      "[[1. 0. 0.]\n",
      " [0. 1. 0.]\n",
      " [0. 0. 1.]]\n"
     ]
    }
   ],
   "source": [
    "# Function for printing the elements of the array\n",
    "\n",
    "# Creating Arrays\n",
    "arr0 = np.zeros(10, dtype='int')\n",
    "print(arr0)\n",
    "\n",
    "# Creating a 3 row x 5 column matrix\n",
    "arr1 = np.ones((3, 5), dtype='float')\n",
    "print(arr1)\n",
    "\n",
    "# Creating a matrix with predifined value\n",
    "arr2 = np.full((3, 5), 1.23)\n",
    "print(arr2)\n",
    "\n",
    "# Create an array with a set sequence\n",
    "arr3 = np.arange(0, 30, 2)\n",
    "print(arr3)\n",
    "\n",
    "# Create an array of even space between the given range of values\n",
    "arr4 = np.linspace(0, 1, 5)\n",
    "print(arr4)\n",
    "\n",
    "# Create an Identity matrix\n",
    "arr5 = np.eye(3)\n",
    "print(arr5)"
   ]
  },
  {
   "cell_type": "code",
   "execution_count": 44,
   "metadata": {},
   "outputs": [
    {
     "data": {
      "text/plain": [
       "array([[12,  7,  5,  5],\n",
       "       [10,  1,  5,  9],\n",
       "       [ 3,  7,  5,  2]])"
      ]
     },
     "execution_count": 44,
     "metadata": {},
     "output_type": "execute_result"
    }
   ],
   "source": [
    "# Array and indexing\n",
    "# We will use the previously created value\n",
    "\n",
    "# Access value to index zero\n",
    "\n",
    "arr0[0]\n",
    "\n",
    "# Access fith value\n",
    "arr3[5]\n",
    "\n",
    "# Get the last value in the array\n",
    "arr3[-1]\n",
    "\n",
    "# Get the second last value in the array\n",
    "arr3[-2]\n",
    "\n",
    "# In case of multidimensional matrix\n",
    "x2 = np.array([[3, 7, 5, 5], [10, 1, 5, 9], [3, 7, 5, 2]])\n",
    "\n",
    "# 1st row and second column value\n",
    "\n",
    "x2[0,1]\n",
    "\n",
    "# 3rd row and last value from the 3rd column\n",
    "x2[2, -1]\n",
    "\n",
    "# replace value at 0, 0 index\n",
    "x2[0,0] = 12\n",
    "x2"
   ]
  },
  {
   "cell_type": "code",
   "execution_count": 51,
   "metadata": {},
   "outputs": [
    {
     "data": {
      "text/plain": [
       "array([9, 8, 7, 6, 5, 4, 3, 2, 1, 0])"
      ]
     },
     "execution_count": 51,
     "metadata": {},
     "output_type": "execute_result"
    }
   ],
   "source": [
    "# Array Slicing\n",
    "\n",
    "x = np.arange(10)\n",
    "x\n",
    "\n",
    "# from start to 4th position\n",
    "x[:5]\n",
    "\n",
    "# from 4th position to end\n",
    "x[4:]\n",
    "\n",
    "# from 4th to 6th position\n",
    "x[4:7]\n",
    "\n",
    "# return elements at even place\n",
    "x[ : : 2]\n",
    "\n",
    "# return elements from first position step by two\n",
    "x[1::2]\n",
    "\n",
    "# reverse the array\n",
    "x[::-1]\n",
    "\n"
   ]
  },
  {
   "cell_type": "code",
   "execution_count": 56,
   "metadata": {},
   "outputs": [
    {
     "data": {
      "text/plain": [
       "array([[1, 2, 3],\n",
       "       [3, 2, 1],\n",
       "       [1, 2, 3],\n",
       "       [3, 2, 1]])"
      ]
     },
     "execution_count": 56,
     "metadata": {},
     "output_type": "execute_result"
    }
   ],
   "source": [
    "# Array Concatenation\n",
    "\n",
    "# You can concatenate two or more arrays at once.\n",
    "\n",
    "x = np.array([1, 2, 3])\n",
    "y = np.array([3, 2, 1])\n",
    "z = [21, 21, 21]\n",
    "\n",
    "np.concatenate([x, y, z])\n",
    "\n",
    "# You can also use this function to create 2-dimensional arrays.\n",
    "grid = np.array([[1, 2, 3], [3, 2, 1]])\n",
    "\n",
    "np.concatenate([grid, grid])"
   ]
  },
  {
   "cell_type": "code",
   "execution_count": 57,
   "metadata": {},
   "outputs": [
    {
     "data": {
      "text/plain": [
       "array([[ 3,  4,  5],\n",
       "       [ 1,  2,  3],\n",
       "       [17, 18, 19]])"
      ]
     },
     "execution_count": 57,
     "metadata": {},
     "output_type": "execute_result"
    }
   ],
   "source": [
    "# Using vstack or hstack for combining array\n",
    "# That does not have egal dimension\n",
    "\n",
    "x = np.array([3, 4, 5])\n",
    "grid = np.array([[1, 2, 3],[17, 18, 19]])\n",
    "\n",
    "np.vstack([x, grid])"
   ]
  }
 ],
 "metadata": {
  "kernelspec": {
   "display_name": "Python 3",
   "language": "python",
   "name": "python3"
  },
  "language_info": {
   "codemirror_mode": {
    "name": "ipython",
    "version": 3
   },
   "file_extension": ".py",
   "mimetype": "text/x-python",
   "name": "python",
   "nbconvert_exporter": "python",
   "pygments_lexer": "ipython3",
   "version": "3.11.3"
  }
 },
 "nbformat": 4,
 "nbformat_minor": 2
}
